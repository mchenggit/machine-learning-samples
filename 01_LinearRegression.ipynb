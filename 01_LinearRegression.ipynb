{
 "cells": [
  {
   "cell_type": "markdown",
   "id": "insured-publication",
   "metadata": {},
   "source": [
    "# Linear Regression to Predict Height From Weight\n",
    "\n",
    "We start with linenar regression because it is easy to understand, and can help us develop intuitions about the key concepts of machine learning. You may have already learned about linear regression, or used it in your job. The reason that linear regression is also considered machine learning is that\n",
    "- It is trained using data, and improves as more data is available.\n",
    "- It is used for prediction and forecasting\n",
    "- It is part of the repertoire of models that you should have at your disposal when weighing which model to use in machine learning.\n",
    "\n",
    "\n",
    "The linear regression model assumes the data exhibits a linear relationship of the form:\n",
    "```\n",
    "y =  mx + b\n",
    "```\n",
    "where\n",
    "- `y` = the dependent variable\n",
    "- `x` = the indepedent variable\n",
    "- `m` = the slope\n",
    "- `b` = the intercept, or the value of `y` when `x` = 0\n",
    "\n",
    "**Given a set of input data, linear regression is used to find the parameters `m` and `b` that best fit the data. This is an optimization problem with two parameters.** What is considered \"best fit\" is beyond the scope of this lab. You can easily find the actual algorithms online. \n",
    "\n",
    "\n",
    "This lab is designed to show:\n",
    "- How to train a linear regression model\n",
    "- The amount of data used for training affects the quality of the model\n",
    "- The importance of selecting the correct model for your data"
   ]
  },
  {
   "cell_type": "markdown",
   "id": "solid-cooler",
   "metadata": {},
   "source": [
    "## The Data\n",
    "\n",
    "For this lab, we are using a model that assumes a linear relationship between weight and height. \n",
    "The data was collected from the [!Kung tribe](https://en.wikipedia.org/wiki/%C7%83Kung_people), and available at the following [github page](https://github.com/rmcelreath/rethinking/blob/master/data/Howell1.csv)\n"
   ]
  },
  {
   "cell_type": "markdown",
   "id": "right-blake",
   "metadata": {},
   "source": [
    "## Read data into Python array"
   ]
  },
  {
   "cell_type": "code",
   "execution_count": 1,
   "id": "breeding-broadcasting",
   "metadata": {},
   "outputs": [],
   "source": [
    "%matplotlib inline\n",
    "\n",
    "import matplotlib\n",
    "import numpy as np\n",
    "import matplotlib.pyplot as plt\n",
    "import pandas as pd\n",
    "from sklearn.model_selection import train_test_split\n",
    "from sklearn.linear_model import LinearRegression"
   ]
  },
  {
   "cell_type": "code",
   "execution_count": 2,
   "id": "victorian-internet",
   "metadata": {},
   "outputs": [
    {
     "data": {
      "text/html": [
       "<div>\n",
       "<style scoped>\n",
       "    .dataframe tbody tr th:only-of-type {\n",
       "        vertical-align: middle;\n",
       "    }\n",
       "\n",
       "    .dataframe tbody tr th {\n",
       "        vertical-align: top;\n",
       "    }\n",
       "\n",
       "    .dataframe thead th {\n",
       "        text-align: right;\n",
       "    }\n",
       "</style>\n",
       "<table border=\"1\" class=\"dataframe\">\n",
       "  <thead>\n",
       "    <tr style=\"text-align: right;\">\n",
       "      <th></th>\n",
       "      <th>height</th>\n",
       "      <th>weight</th>\n",
       "      <th>age</th>\n",
       "      <th>male</th>\n",
       "    </tr>\n",
       "  </thead>\n",
       "  <tbody>\n",
       "    <tr>\n",
       "      <th>0</th>\n",
       "      <td>151.765</td>\n",
       "      <td>47.825606</td>\n",
       "      <td>63.0</td>\n",
       "      <td>1</td>\n",
       "    </tr>\n",
       "    <tr>\n",
       "      <th>1</th>\n",
       "      <td>139.700</td>\n",
       "      <td>36.485807</td>\n",
       "      <td>63.0</td>\n",
       "      <td>0</td>\n",
       "    </tr>\n",
       "    <tr>\n",
       "      <th>2</th>\n",
       "      <td>136.525</td>\n",
       "      <td>31.864838</td>\n",
       "      <td>65.0</td>\n",
       "      <td>0</td>\n",
       "    </tr>\n",
       "    <tr>\n",
       "      <th>3</th>\n",
       "      <td>156.845</td>\n",
       "      <td>53.041915</td>\n",
       "      <td>41.0</td>\n",
       "      <td>1</td>\n",
       "    </tr>\n",
       "    <tr>\n",
       "      <th>4</th>\n",
       "      <td>145.415</td>\n",
       "      <td>41.276872</td>\n",
       "      <td>51.0</td>\n",
       "      <td>0</td>\n",
       "    </tr>\n",
       "  </tbody>\n",
       "</table>\n",
       "</div>"
      ],
      "text/plain": [
       "    height     weight   age  male\n",
       "0  151.765  47.825606  63.0     1\n",
       "1  139.700  36.485807  63.0     0\n",
       "2  136.525  31.864838  65.0     0\n",
       "3  156.845  53.041915  41.0     1\n",
       "4  145.415  41.276872  51.0     0"
      ]
     },
     "execution_count": 2,
     "metadata": {},
     "output_type": "execute_result"
    }
   ],
   "source": [
    "data = pd.read_csv(\"data/Howell1.csv\", sep=\";\")\n",
    "df = pd.DataFrame(data)\n",
    "df.head()"
   ]
  },
  {
   "cell_type": "markdown",
   "id": "median-converter",
   "metadata": {},
   "source": [
    "## Transform Input Array\n",
    "\n",
    "The next step is to create the independent and dependent variables from the input"
   ]
  },
  {
   "cell_type": "code",
   "execution_count": 3,
   "id": "adjusted-plumbing",
   "metadata": {},
   "outputs": [
    {
     "data": {
      "text/html": [
       "<div>\n",
       "<style scoped>\n",
       "    .dataframe tbody tr th:only-of-type {\n",
       "        vertical-align: middle;\n",
       "    }\n",
       "\n",
       "    .dataframe tbody tr th {\n",
       "        vertical-align: top;\n",
       "    }\n",
       "\n",
       "    .dataframe thead th {\n",
       "        text-align: right;\n",
       "    }\n",
       "</style>\n",
       "<table border=\"1\" class=\"dataframe\">\n",
       "  <thead>\n",
       "    <tr style=\"text-align: right;\">\n",
       "      <th></th>\n",
       "      <th>weight</th>\n",
       "      <th>age</th>\n",
       "      <th>male</th>\n",
       "    </tr>\n",
       "  </thead>\n",
       "  <tbody>\n",
       "    <tr>\n",
       "      <th>0</th>\n",
       "      <td>47.825606</td>\n",
       "      <td>63.0</td>\n",
       "      <td>1</td>\n",
       "    </tr>\n",
       "    <tr>\n",
       "      <th>1</th>\n",
       "      <td>36.485807</td>\n",
       "      <td>63.0</td>\n",
       "      <td>0</td>\n",
       "    </tr>\n",
       "    <tr>\n",
       "      <th>2</th>\n",
       "      <td>31.864838</td>\n",
       "      <td>65.0</td>\n",
       "      <td>0</td>\n",
       "    </tr>\n",
       "    <tr>\n",
       "      <th>3</th>\n",
       "      <td>53.041915</td>\n",
       "      <td>41.0</td>\n",
       "      <td>1</td>\n",
       "    </tr>\n",
       "    <tr>\n",
       "      <th>4</th>\n",
       "      <td>41.276872</td>\n",
       "      <td>51.0</td>\n",
       "      <td>0</td>\n",
       "    </tr>\n",
       "  </tbody>\n",
       "</table>\n",
       "</div>"
      ],
      "text/plain": [
       "      weight   age  male\n",
       "0  47.825606  63.0     1\n",
       "1  36.485807  63.0     0\n",
       "2  31.864838  65.0     0\n",
       "3  53.041915  41.0     1\n",
       "4  41.276872  51.0     0"
      ]
     },
     "execution_count": 3,
     "metadata": {},
     "output_type": "execute_result"
    }
   ],
   "source": [
    "# X is the independent variables. \n",
    "X = df.drop('height', axis=1)\n",
    "X.head()"
   ]
  },
  {
   "cell_type": "code",
   "execution_count": 4,
   "id": "unnecessary-dialogue",
   "metadata": {},
   "outputs": [
    {
     "data": {
      "text/plain": [
       "0    151.765\n",
       "1    139.700\n",
       "2    136.525\n",
       "3    156.845\n",
       "4    145.415\n",
       "Name: height, dtype: float64"
      ]
     },
     "execution_count": 4,
     "metadata": {},
     "output_type": "execute_result"
    }
   ],
   "source": [
    "# y is the dependent variable\n",
    "y = df['height']\n",
    "y.head()"
   ]
  },
  {
   "cell_type": "markdown",
   "id": "spare-absence",
   "metadata": {},
   "source": [
    "# Train the model with a small set of data\n",
    "\n",
    "In the first try, we will use only 5% of the data to train the model. This is used to demonstrate model behavior when the training set is small."
   ]
  },
  {
   "cell_type": "code",
   "execution_count": 5,
   "id": "internal-coordinator",
   "metadata": {
    "scrolled": true
   },
   "outputs": [
    {
     "name": "stdout",
     "output_type": "stream",
     "text": [
      "m:  1.2986222301399701 b:  91.45565952606745\n"
     ]
    }
   ],
   "source": [
    "# test_size = 0.95 means 1-0.95 or 5% is used for training.\n",
    "X_train, X_test, y_train, y_test = train_test_split(X, y, test_size=0.95, random_state=0)\n",
    "lin_reg = LinearRegression()\n",
    "reg = lin_reg.fit(X_train, y_train)\n",
    "\n",
    "# Our model is the in the form of a line.\n",
    "# After training, the parameters of the line y = mx + b are:\n",
    "#  m = req.coef_[0], \n",
    "#  b = req.intercept_\n",
    "# Let's define two points on the line so we can plot it:\n",
    "print('m: ', reg.coef_[0], \"b: \", reg.intercept_)\n",
    "x0 = 0\n",
    "y0 = reg.intercept_\n",
    "x1 = 70\n",
    "y1 = reg.coef_[0]* x1 + y0"
   ]
  },
  {
   "cell_type": "markdown",
   "id": "fabulous-mention",
   "metadata": {},
   "source": [
    "## Plot the training data and the model\n",
    "\n",
    "Note that:\n",
    "- With the small set of training data, a line appears to be a good fit\n",
    "- You can use the line to predict the height based on any weight. For example, what does the model predict for the height when weight is 70?"
   ]
  },
  {
   "cell_type": "code",
   "execution_count": 6,
   "id": "found-fight",
   "metadata": {},
   "outputs": [
    {
     "data": {
      "image/png": "[encoded data removed]",
      "text/plain": [
       "<Figure size 432x288 with 1 Axes>"
      ]
     },
     "metadata": {
      "needs_background": "light"
     },
     "output_type": "display_data"
    }
   ],
   "source": [
    "axes1 = plt.axes(label=\"training 1\")\n",
    "axes1.set_xlabel('weight')\n",
    "axes1.set_ylabel('height')\n",
    "axes1.scatter(X_train['weight'], y_train)\n",
    "axes1.plot( [x0, x1], [y0, y1], color='blue', linewidth = 3)\n",
    "plt.show()"
   ]
  },
  {
   "cell_type": "markdown",
   "id": "brutal-prior",
   "metadata": {},
   "source": [
    "## Train the Model with Representative Set of Data\n",
    "\n",
    "In this second try, we will train the model with 50% of the data. This is more representative of the population.\n",
    "\n",
    "Note how the parameters of the model have changed based on more data."
   ]
  },
  {
   "cell_type": "code",
   "execution_count": 7,
   "id": "suited-equipment",
   "metadata": {},
   "outputs": [
    {
     "name": "stdout",
     "output_type": "stream",
     "text": [
      "m:  1.662784928234774 b:  75.05407729895278\n"
     ]
    }
   ],
   "source": [
    "X_train1, X_test1, y_train1, y_test1 = train_test_split(X, y, test_size=0.5, random_state=0)\n",
    "lin_reg1 = LinearRegression()\n",
    "reg1 = lin_reg.fit(X_train1, y_train1)\n",
    "print('m: ', reg1.coef_[0], 'b: ', reg1.intercept_)\n",
    "x0_1 = 0\n",
    "y0_1 = reg1.intercept_\n",
    "x1_1 = 70\n",
    "y1_1 = reg1.coef_[0]* x1_1 + y0_1"
   ]
  },
  {
   "cell_type": "markdown",
   "id": "starting-newsletter",
   "metadata": {},
   "source": [
    "## Plot the Representative Training Data with Revised Model\n"
   ]
  },
  {
   "cell_type": "code",
   "execution_count": 8,
   "id": "intense-sacramento",
   "metadata": {
    "scrolled": true
   },
   "outputs": [
    {
     "data": {
      "image/png": "[encoded data removed]",
      "text/plain": [
       "<Figure size 432x288 with 1 Axes>"
      ]
     },
     "metadata": {
      "needs_background": "light"
     },
     "output_type": "display_data"
    }
   ],
   "source": [
    "axes2 = plt.axes(label=\"training 2\")\n",
    "axes2.set_xlabel('weight')\n",
    "axes2.set_ylabel('height')\n",
    "axes2.scatter(X_train1['weight'], y_train1)\n",
    "axes2.plot( [x0_1, x1_1], [y0_1, y1_1], color='blue', linewidth = 3)\n",
    "plt.show()"
   ]
  },
  {
   "cell_type": "markdown",
   "id": "christian-lighter",
   "metadata": {},
   "source": [
    "## Additional Activities and Discussions\n",
    "\n",
    "- Is a linear model the right model for this data?  If not, what's a better model?\n",
    "- How do you evaluate what's a good model?\n",
    "- How is model training different from programming?\n",
    "- Re-run the lab with different training set sizes to see how the model changes.\n",
    "- Read more about [regression analysis](https://en.wikipedia.org/wiki/Regression_analysis)\n"
   ]
  },
  {
   "cell_type": "code",
   "execution_count": null,
   "id": "exciting-encyclopedia",
   "metadata": {},
   "outputs": [],
   "source": []
  }
 ],
 "metadata": {
  "kernelspec": {
   "display_name": "Python 3",
   "language": "python",
   "name": "python3"
  },
  "language_info": {
   "codemirror_mode": {
    "name": "ipython",
    "version": 3
   },
   "file_extension": ".py",
   "mimetype": "text/x-python",
   "name": "python",
   "nbconvert_exporter": "python",
   "pygments_lexer": "ipython3",
   "version": "3.8.5"
  }
 },
 "nbformat": 4,
 "nbformat_minor": 5
}
