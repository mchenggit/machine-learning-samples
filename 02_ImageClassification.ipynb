{
 "cells": [
  {
   "cell_type": "markdown",
   "id": "moved-silly",
   "metadata": {},
   "source": [
    "# Image Classification using Logistic Regression\n",
    "\n",
    "In this lab, we will be using logistic regression to classify sample images, to identify which digit, from 0 to 9, each input image resembles. Logistic Regression is one of the models for supervised learning. In supervised learning\n",
    "- The input data used for training contains a label that correctly identifies the data\n",
    "- After training, the model may be used to predict the label for an unknown data point."
   ]
  },
  {
   "cell_type": "markdown",
   "id": "vietnamese-affairs",
   "metadata": {},
   "source": [
    "## Introduction to Logistic Regression\n",
    "\n",
    "![Logistic Regression Model](images/LogisticRegressionModel.jpg)\n",
    "\n",
    "In logistic regression, the output of the model is either 0, or 1, meaning it is only able to classify a binary relationship. For example, is the input an image of the digit 0?\n",
    "\n",
    "Each input data point is a set of features, `X0, X1, ... , Xn`.  The model contains weights `w0, w1, ..., wn`. The output of the model is calculated as:\n",
    "- First calculate `y = w0*1 + w1*X1 + w2*X2 + ... + wn*Xn`\n",
    "- Apply an activation function to normalize y to a value beween 0 and 1. This is also the probability that the output label is 1.\n",
    "- Apply a threshold function to determine whether the output is 0 or 1. In our example, the output is 1 if y >= 0.5.\n",
    "\n",
    "To train the model, we feed it a sufficiently representative set of input data whose output should be 1. **Given a set of input  data, the training is used to calculate the values of the weights `w0, w1, .. wn.` such that they \"best fit\" the training data. This is an optimization problem with n parameters.**  Intuitively, the weights are calculated such that the output is 1 for all the input data, and for all other data \"similar\" to the input data. How this is done is beyond the scope of this lab.\n",
    "\n",
    "Note that logistic regression is closely related to linear regression. Let's remove the activation and threshold functions, and just look at the summation.  In the case of just one varible, it reduces to `y = 1*w0 + w1* X1`, which is exactly the form of `y = b + mx`.\n",
    "\n",
    "After the model has been trained, it may be used to classify new data. Given an unknown input data, the model uses the trained weights to derive the output for the new data, to classify it as either 0 or 1.  \n"
   ]
  },
  {
   "cell_type": "markdown",
   "id": "latin-lotus",
   "metadata": {},
   "source": [
    "## Explore the Image Data\n",
    "\n",
    "We will be using the Modified National Institute of Standards (MNIST) data set, which contains 70,000 28x28 images of hand written digits. The first 60,000 are meant for training, while the last 10,000 are for testing. \n",
    "Let's first load the data, and look at the first 15 sample images."
   ]
  },
  {
   "cell_type": "code",
   "execution_count": 1,
   "id": "rapid-auditor",
   "metadata": {},
   "outputs": [],
   "source": [
    "%matplotlib inline\n",
    "from sklearn.datasets import fetch_openml\n",
    "import matplotlib.pyplot as plt\n",
    "import numpy\n",
    "from sklearn.linear_model import LogisticRegression\n",
    "from sklearn.metrics import precision_score\n",
    "from sklearn.metrics import recall_score"
   ]
  },
  {
   "cell_type": "code",
   "execution_count": 2,
   "id": "provincial-specific",
   "metadata": {},
   "outputs": [
    {
     "data": {
      "text/plain": [
       "dict_keys(['data', 'target', 'frame', 'categories', 'feature_names', 'target_names', 'DESCR', 'details', 'url'])"
      ]
     },
     "execution_count": 2,
     "metadata": {},
     "output_type": "execute_result"
    }
   ],
   "source": [
    "mnist = fetch_openml('mnist_784', version=1)\n",
    "# This will train the MNIST Fashion images instead.\n",
    "# mnist = fetch_openml('Fashion-Mnist', version=1)\n",
    "mnist.keys()"
   ]
  },
  {
   "cell_type": "code",
   "execution_count": 3,
   "id": "computational-forty",
   "metadata": {},
   "outputs": [
    {
     "name": "stdout",
     "output_type": "stream",
     "text": [
      "x: (70000, 784) y: (70000,)\n"
     ]
    }
   ],
   "source": [
    "X = mnist['data'] # Each X[i] is a 28x28 image\n",
    "y = mnist['target'] # Each y[i] is a digit, 0-9\n",
    "print ('x:', X.shape, 'y:', y.shape)"
   ]
  },
  {
   "cell_type": "code",
   "execution_count": 4,
   "id": "joint-failure",
   "metadata": {},
   "outputs": [
    {
     "data": {
      "image/png": "[encoded data removed]",
      "text/plain": [
       "<Figure size 720x72 with 15 Axes>"
      ]
     },
     "metadata": {
      "needs_background": "light"
     },
     "output_type": "display_data"
    }
   ],
   "source": [
    "# Display the first 15 images, and their respective labels\n",
    "numDigits = 15\n",
    "plt.figure(figsize=(10, 1))\n",
    "for idx in range(numDigits):\n",
    "  plt.subplot(1, numDigits, idx+1)\n",
    "  digit = X[idx:idx+1].to_numpy()\n",
    "  image = digit.reshape(28,28)\n",
    "  plt.imshow(image, cmap=\"binary\")\n",
    "  plt.title(y[idx])\n",
    "  plt.axis(\"off\")\n",
    "\n",
    "plt.show()"
   ]
  },
  {
   "cell_type": "markdown",
   "id": "neither-complement",
   "metadata": {},
   "source": [
    "##  How to Train Our Data\n",
    "\n",
    "There are two issues we need to address when using logistic regression for our data set:\n",
    "- How to map the image data to features to be trained.\n",
    "- How to classify a digit as between 0 and 9, when a logistic regression model is a binary classifier.\n",
    "\n",
    "For the first issue, the information content for an image is in the pixels. Therefore, we map each pixel into a feature. This means that there are 28x28= 784 features for our model. \n",
    "\n",
    "We resolve the second issue by using 10 different models, one for each digit. For each data point in the training set, if the digit is 0, it is fed to the model for 0 for training.  If it is the digit 1, it is fed to the model for 1, and so on.   \n",
    "\n",
    "After training, in order to decide which digit a test image resembles, we feed the image to all models, and pick the one that has the highest value for its activation function.  This is shown below:\n",
    "\n",
    "![Making a Prediction](images/PredictImage.jpg)\n"
   ]
  },
  {
   "cell_type": "markdown",
   "id": "collected-conversion",
   "metadata": {},
   "source": [
    "## Choosing the Training and Test Sets\n",
    "\n",
    "To reduce the amount of time needed to train the model, we will use only 10000 data points for training.  We will also choose a test set of 10,000 data points."
   ]
  },
  {
   "cell_type": "code",
   "execution_count": 5,
   "id": "acquired-hypothetical",
   "metadata": {},
   "outputs": [],
   "source": [
    "X_train, X_test, y_train, y_test = X[:10000], X[60000:], y[:10000].to_numpy(), y[60000:].to_numpy()"
   ]
  },
  {
   "cell_type": "markdown",
   "id": "chronic-brooks",
   "metadata": {},
   "source": [
    "## Data Normalization\n",
    "\n",
    "The training algorithm works better when the data is normalized. Since each pixel value is maximum of 255, dividing each pixel value by 255 normalizes the data to a range between 0 and 1."
   ]
  },
  {
   "cell_type": "code",
   "execution_count": 6,
   "id": "forced-stack",
   "metadata": {},
   "outputs": [],
   "source": [
    "X_train_scaled = X_train/255\n",
    "X_test_scaled = X_test/255"
   ]
  },
  {
   "cell_type": "markdown",
   "id": "biological-packaging",
   "metadata": {},
   "source": [
    "## Train the Model\n",
    "\n",
    "This is easily accomplished using sklearn's LogisticRegression. Note that it automatically creates multiple models based on the number of label values in variable `y_train`."
   ]
  },
  {
   "cell_type": "code",
   "execution_count": 7,
   "id": "disciplinary-history",
   "metadata": {},
   "outputs": [
    {
     "data": {
      "text/plain": [
       "LogisticRegression(solver='saga', tol=0.1)"
      ]
     },
     "execution_count": 7,
     "metadata": {},
     "output_type": "execute_result"
    }
   ],
   "source": [
    "lr = LogisticRegression(solver='saga', tol=0.1)\n",
    "lr.fit(X_train_scaled, y_train)"
   ]
  },
  {
   "cell_type": "markdown",
   "id": "civic-sleeve",
   "metadata": {},
   "source": [
    "## Test the first 20 digits in the test set\n",
    "\n",
    "Let's sniff test the first 20 digits of the test set, and show the output. Note that the model does not make the correct prediction 100% of the time. Where the predicted result id wrong, we show the output in red."
   ]
  },
  {
   "cell_type": "code",
   "execution_count": 8,
   "id": "musical-landing",
   "metadata": {},
   "outputs": [],
   "source": [
    "numTestDigits = 20\n",
    "predicted_digits = lr.predict(X_test_scaled[0:numTestDigits])"
   ]
  },
  {
   "cell_type": "code",
   "execution_count": 9,
   "id": "sunset-sunglasses",
   "metadata": {},
   "outputs": [
    {
     "data": {
      "image/png": "[encoded data removed]",
      "text/plain": [
       "<Figure size 720x72 with 20 Axes>"
      ]
     },
     "metadata": {
      "needs_background": "light"
     },
     "output_type": "display_data"
    }
   ],
   "source": [
    "plt.figure(figsize=(10, 1))\n",
    "for idx in range(numTestDigits):\n",
    "  plt.subplot(1, numTestDigits, idx+1)\n",
    "  digit = X_test[idx:idx+1].to_numpy()\n",
    "  image = digit.reshape(28,28)\n",
    "  fontColor = 'black'\n",
    "  colorMap = 'binary'\n",
    "  if predicted_digits[idx] != y_test[idx] :\n",
    "    fontColor = 'red'\n",
    "    colorMap = 'autumn'\n",
    "  plt.imshow(image, cmap= colorMap)\n",
    "  plt.title(predicted_digits[idx], fontdict={ 'color': fontColor })\n",
    "  plt.axis(\"off\")\n",
    "\n",
    "plt.show()"
   ]
  },
  {
   "cell_type": "markdown",
   "id": "polish-colors",
   "metadata": {},
   "source": [
    "## Plot the Trained Weights for Each Model\n",
    "\n",
    "As a linear model, the value of the weights can give us insight into how the model is able to predict a digit. In the plot below, the bright pixels have higher weight, while the dark spots have lower weight. For many of the models, you can see an outline for the digit that it is trained to classify. "
   ]
  },
  {
   "cell_type": "code",
   "execution_count": 10,
   "id": "graduate-congo",
   "metadata": {},
   "outputs": [
    {
     "data": {
      "text/plain": [
       "(10, 784)"
      ]
     },
     "execution_count": 10,
     "metadata": {},
     "output_type": "execute_result"
    }
   ],
   "source": [
    "# Note that their are 10 models, each with 784 weights.\n",
    "lr.coef_.shape"
   ]
  },
  {
   "cell_type": "code",
   "execution_count": 11,
   "id": "small-stephen",
   "metadata": {},
   "outputs": [
    {
     "data": {
      "image/png": "[encoded data removed]",
      "text/plain": [
       "<Figure size 1800x180 with 10 Axes>"
      ]
     },
     "metadata": {
      "needs_background": "light"
     },
     "output_type": "display_data"
    }
   ],
   "source": [
    "# Plot the weights\n",
    "numWeightDigits = 10\n",
    "plt.figure(figsize=(25, 2.5))\n",
    "for idx in range(numWeightDigits):\n",
    "    plt.subplot(1, numWeightDigits, idx+1)\n",
    "    plt.imshow(lr.coef_[idx].reshape(28, 28),\n",
    "                  cmap=plt.cm.magma);\n",
    "    plt.axis('off')\n",
    "    plt.title(idx);\n",
    "\n",
    "plt.show()"
   ]
  },
  {
   "cell_type": "markdown",
   "id": "ranging-bahamas",
   "metadata": {},
   "source": [
    "## Plot the Values of Activation Functions for One Test Image\n",
    "\n",
    "Recall that in the case of muti-class classification, the threshold function uses the largest of the individual model's activation function.  Let's calculate and plot it for one test iamge."
   ]
  },
  {
   "cell_type": "code",
   "execution_count": 12,
   "id": "desperate-small",
   "metadata": {},
   "outputs": [
    {
     "data": {
      "image/png": "[encoded data removed]",
      "text/plain": [
       "<Figure size 432x288 with 1 Axes>"
      ]
     },
     "metadata": {
      "needs_background": "light"
     },
     "output_type": "display_data"
    }
   ],
   "source": [
    "# Get one of the test images\n",
    "test_image_index = 8\n",
    "test_image = (X_test_scaled[test_image_index:test_image_index+1].to_numpy())[0]\n",
    "\n",
    "# Calculate y = w0 +  w1*X1 + ... + wn*Xn for all 10 models\n",
    "y = [ lr.intercept_[idx] + numpy.dot(lr.coef_[idx], test_image) for idx in range(10) ]\n",
    "\n",
    "# Calcuate the activation function for all 10 models\n",
    "exponentials = [numpy.exp(y[idx]) for idx in range(10)]\n",
    "activation = exponentials / (numpy.add(exponentials,  1)) # sigmoid function = exp(y)/(exp(y)+1)\n",
    "\n",
    "#plot\n",
    "plt.bar( numpy.arange(0,10), activation);\n",
    "plt.ylabel(\"Probability\");\n",
    "plt.xlabel(\"Digit\");\n",
    "plt.show()"
   ]
  },
  {
   "cell_type": "markdown",
   "id": "sorted-finding",
   "metadata": {},
   "source": [
    "## Find the Accuracy of the Model\n",
    "\n",
    "The accuracy is the percentage of the test data correctly predicted by the model."
   ]
  },
  {
   "cell_type": "code",
   "execution_count": 13,
   "id": "fantastic-research",
   "metadata": {},
   "outputs": [
    {
     "name": "stdout",
     "output_type": "stream",
     "text": [
      "0.9115\n"
     ]
    }
   ],
   "source": [
    "accuracy = lr.score(X_test_scaled, y_test)\n",
    "print(accuracy)"
   ]
  },
  {
   "cell_type": "markdown",
   "id": "center-thong",
   "metadata": {},
   "source": [
    "## Discussions and Additional Activities\n",
    "\n",
    "- Re-run the lab with the [Fashion-Mnist](https://www.openml.org/d/40996) data set to classify different types of clothing. It contains the same number of images and the same image size as the hand writing digits data set. The labels of the data are:\n",
    "    - 0  T-shirt/top  \n",
    "    - 1  Trouser  \n",
    "    - 2  Pullover  \n",
    "    - 3  Dress  \n",
    "    - 4  Coat  \n",
    "    - 5  Sandal  \n",
    "    - 6  Shirt  \n",
    "    - 7  Sneaker  \n",
    "    - 8  Bag  \n",
    "    - 9  Ankle boot  \n",
    "- If you had to code an algorithm to detect digits, what would that algorithm look like? Would it be applicable to detecting different types of clothing?\n",
    "- Read about [Logistics Regression](https://en.wikipedia.org/wiki/Logistic_regression) in detail.\n",
    "- Read about [Precision and Recall](https://en.wikipedia.org/wiki/Precision_and_recall) as other metrics to evaluate your model."
   ]
  },
  {
   "cell_type": "code",
   "execution_count": null,
   "id": "electric-airplane",
   "metadata": {},
   "outputs": [],
   "source": []
  }
 ],
 "metadata": {
  "kernelspec": {
   "display_name": "Python 3",
   "language": "python",
   "name": "python3"
  },
  "language_info": {
   "codemirror_mode": {
    "name": "ipython",
    "version": 3
   },
   "file_extension": ".py",
   "mimetype": "text/x-python",
   "name": "python",
   "nbconvert_exporter": "python",
   "pygments_lexer": "ipython3",
   "version": "3.8.5"
  }
 },
 "nbformat": 4,
 "nbformat_minor": 5
}
